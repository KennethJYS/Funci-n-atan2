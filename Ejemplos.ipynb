{
 "cells": [
  {
   "cell_type": "markdown",
   "metadata": {},
   "source": [
    "# Ejemplos atan2 python"
   ]
  },
  {
   "cell_type": "markdown",
   "metadata": {},
   "source": [
    "### Ejemplo 1"
   ]
  },
  {
   "cell_type": "code",
   "execution_count": 6,
   "metadata": {},
   "outputs": [
    {
     "name": "stdout",
     "output_type": "stream",
     "text": [
      "El ángulo en radianes de (1, 1) es: 1.1071487177940904\n",
      "El ángulo en grados es: 63.43494882292201\n"
     ]
    }
   ],
   "source": [
    "import math\n",
    "\n",
    "x, y = 1, 2\n",
    "angulo = math.atan2(y, x)\n",
    "print(f\"El ángulo en radianes de (1, 1) es: {angulo}\")\n",
    "print(f\"El ángulo en grados es: {math.degrees(angulo)}\")"
   ]
  },
  {
   "cell_type": "markdown",
   "metadata": {},
   "source": [
    "### Ejemplo 2"
   ]
  },
  {
   "cell_type": "code",
   "execution_count": 7,
   "metadata": {},
   "outputs": [
    {
     "name": "stdout",
     "output_type": "stream",
     "text": [
      "Resultado de división por 0 con atan2: 1.5707963267948966 radianes, 90.0 grados\n"
     ]
    }
   ],
   "source": [
    "y, x = 1, 0\n",
    "\n",
    "# Usando atan2\n",
    "angulo_atan2 = math.atan2(y, x)\n",
    "print(f\"Resultado de división por 0 con atan2: {angulo_atan2} radianes, {math.degrees(angulo_atan2)} grados\")\n"
   ]
  },
  {
   "cell_type": "markdown",
   "metadata": {},
   "source": [
    "### Ejemplo 3"
   ]
  },
  {
   "cell_type": "code",
   "execution_count": 8,
   "metadata": {},
   "outputs": [
    {
     "name": "stdout",
     "output_type": "stream",
     "text": [
      "Punto (1, 1): 45.0 grados\n",
      "Punto (-1, 1): 135.0 grados\n",
      "Punto (-1, -1): -135.0 grados\n",
      "Punto (1, -1): -45.0 grados\n"
     ]
    }
   ],
   "source": [
    "puntos = [(1, 1), (-1, 1), (-1, -1), (1, -1)]\n",
    "\n",
    "for x, y in puntos:\n",
    "    angulo = math.atan2(y, x)\n",
    "    print(f\"Punto ({x}, {y}): {math.degrees(angulo)} grados\")\n"
   ]
  },
  {
   "cell_type": "markdown",
   "metadata": {},
   "source": [
    "### Ejemplo 4"
   ]
  },
  {
   "cell_type": "code",
   "execution_count": 9,
   "metadata": {},
   "outputs": [
    {
     "name": "stdout",
     "output_type": "stream",
     "text": [
      "El ángulo del vector (3, 4) es 53.13 grados\n"
     ]
    }
   ],
   "source": [
    "def calcular_angulo(x, y):\n",
    "    return math.atan2(y, x)\n",
    "\n",
    "vector = (3, 4)\n",
    "angulo = calcular_angulo(vector[0], vector[1])\n",
    "print(f\"El ángulo del vector {vector} es {math.degrees(angulo):.2f} grados\")\n"
   ]
  },
  {
   "cell_type": "markdown",
   "metadata": {},
   "source": [
    "### Ejemplo 5"
   ]
  },
  {
   "cell_type": "code",
   "execution_count": 11,
   "metadata": {},
   "outputs": [
    {
     "name": "stdout",
     "output_type": "stream",
     "text": [
      "Punto (2, 2): 45.00 grados en sentido horario desde el eje positivo X\n",
      "Punto (-2, 2): 135.00 grados en sentido horario desde el eje positivo X\n",
      "Punto (-2, -2): 225.00 grados en sentido horario desde el eje positivo X\n",
      "Punto (2, -2): 315.00 grados en sentido horario desde el eje positivo X\n",
      "Punto (0, -3): 270.00 grados en sentido horario desde el eje positivo X\n"
     ]
    }
   ],
   "source": [
    "def direccion_desde_origen(x, y):\n",
    "    angulo = math.atan2(y, x)\n",
    "    if angulo >= 0:\n",
    "        return f\"{math.degrees(angulo):.2f} grados en sentido horario desde el eje positivo X\"\n",
    "    else:\n",
    "        return f\"{360 + math.degrees(angulo):.2f} grados en sentido horario desde el eje positivo X\"\n",
    "\n",
    "puntos = [(2, 2), (-2, 2), (-2, -2), (2, -2), (0, -3)]\n",
    "\n",
    "for x, y in puntos:\n",
    "    print(f\"Punto ({x}, {y}): {direccion_desde_origen(x, y)}\")\n",
    "\n"
   ]
  }
 ],
 "metadata": {
  "kernelspec": {
   "display_name": "Python 3",
   "language": "python",
   "name": "python3"
  },
  "language_info": {
   "codemirror_mode": {
    "name": "ipython",
    "version": 3
   },
   "file_extension": ".py",
   "mimetype": "text/x-python",
   "name": "python",
   "nbconvert_exporter": "python",
   "pygments_lexer": "ipython3",
   "version": "3.13.0"
  }
 },
 "nbformat": 4,
 "nbformat_minor": 2
}
